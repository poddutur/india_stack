{
 "cells": [
  {
   "cell_type": "code",
   "execution_count": 11,
   "metadata": {
    "collapsed": true
   },
   "outputs": [],
   "source": [
    "import requests\n",
    "from bs4 import BeautifulSoup\n",
    "import pandas as pd"
   ]
  },
  {
   "cell_type": "code",
   "execution_count": 12,
   "metadata": {},
   "outputs": [],
   "source": [
    "hrefs = list()\n",
    "\n",
    "#Getting the urls for list of ngos recently registered\n",
    "url = 'http://www.guidestarindia.org/List_of_NGOs.aspx'\n",
    "r = requests.get(url)\n",
    "html = r.text\n",
    "soup = BeautifulSoup(html,\"html5lib\")\n",
    "a_tags = soup.find_all('a')\n",
    "for link in a_tags:\n",
    "    thref = link.get('href')\n",
    "    if 'http://www.guidestarindia.org/Summary.aspx?CCReg' in str(thref):\n",
    "        hrefs.append(thref)\n",
    "        \n",
    "#getting the list of certified ngos        \n",
    "url = 'http://www.guidestarindia.org/CertifiedNGOs.aspx'\n",
    "r = requests.get(url)\n",
    "html = r.text\n",
    "soup = BeautifulSoup(html,\"html5lib\")\n",
    "a_tags = soup.find_all('a')\n",
    "for link in a_tags:\n",
    "    thref = link.get('href')\n",
    "    if 'http://www.guidestarindia.org/Summary.aspx?CCReg' in str(thref):\n",
    "        hrefs.append(thref)\n",
    "        \n",
    "hrefs = list(set(hrefs))"
   ]
  },
  {
   "cell_type": "code",
   "execution_count": null,
   "metadata": {},
   "outputs": [],
   "source": [
    "ngo_data = list()\n",
    "for index_hrefs in range(0,40):\n",
    "    url = hrefs[index_hrefs]\n",
    "    r = requests.get(url)\n",
    "    html = r.text\n",
    "    soup = BeautifulSoup(html,\"html5lib\")\n",
    "    id_data = soup.findAll(True,{'id':'SectionPlaceHolder1_ctl01_ctpTxtCharityName'})\n",
    "    name = id_data[0].findAll('span')[0].text\n",
    "    a_tags = soup.find_all('a')\n",
    "    for link in a_tags:\n",
    "        thref = link.get('href')\n",
    "        if 'mailto:' in str(thref):\n",
    "            email = thref[7:]\n",
    "            break\n",
    "    id_data = soup.findAll(True,{'id':'SectionPlaceHolder1_ctl01_ccAddrState'})\n",
    "    state = id_data[0].findAll('span')[1].text\n",
    "    id_data = soup.findAll(True,{'id':'SectionPlaceHolder1_ctl01_DynVariableList2_ctl08_txtPhoneNum'})\n",
    "    ph2 = id_data[0].findAll('span')[0].text\n",
    "    try:\n",
    "        id_data = soup.findAll(True,{'id':'SectionPlaceHolder1_ctl01_DynVariableList2_ctl08_txtPhoneArea'})\n",
    "        ph1 = id_data[0].findAll('span')[0].text\n",
    "    except:\n",
    "        ph1 = ''\n",
    "    phone = ph1+ph2\n",
    "    url = url.replace('Summary','Organisation')\n",
    "    r = requests.get(url)\n",
    "    html = r.text\n",
    "    soup = BeautifulSoup(html,\"html5lib\")\n",
    "    try:\n",
    "        all_lists = soup.find_all('ul')\n",
    "        for l in all_lists:\n",
    "            for l2 in l.find_all('ul'):\n",
    "                if len(l2.find_all('a'))==0:\n",
    "                    category = (l2.find_all('li')[0].text).strip()\n",
    "    except:\n",
    "        category = ''\n",
    "    ngo_data.append({'Name': name,\n",
    "                     'email':email,\n",
    "                    'state': state,\n",
    "                    'phone':phone,\n",
    "                    'category':category})\n",
    "ngo_data = pd.DataFrame(ngo_data)\n",
    "ngo_data.head(30)"
   ]
  },
  {
   "cell_type": "code",
   "execution_count": 7,
   "metadata": {},
   "outputs": [
    {
     "data": {
      "text/html": [
       "<div>\n",
       "<table border=\"1\" class=\"dataframe\">\n",
       "  <thead>\n",
       "    <tr style=\"text-align: right;\">\n",
       "      <th></th>\n",
       "      <th>Name</th>\n",
       "      <th>category</th>\n",
       "      <th>email</th>\n",
       "      <th>phone</th>\n",
       "      <th>state</th>\n",
       "    </tr>\n",
       "  </thead>\n",
       "  <tbody>\n",
       "    <tr>\n",
       "      <th>0</th>\n",
       "      <td>Santipur Computer Institute</td>\n",
       "      <td>Social Services</td>\n",
       "      <td>sci8@rediffmail.com</td>\n",
       "      <td>8926524947</td>\n",
       "      <td>West Bengal</td>\n",
       "    </tr>\n",
       "    <tr>\n",
       "      <th>1</th>\n",
       "      <td>SOCIAL AWARNESS AND VOLUNTARY EDUCATION (SAVE)...</td>\n",
       "      <td>Social Services</td>\n",
       "      <td>save-ngo@eth.net</td>\n",
       "      <td>4212428100</td>\n",
       "      <td>Tamil Nadu</td>\n",
       "    </tr>\n",
       "    <tr>\n",
       "      <th>2</th>\n",
       "      <td>Jan Gramin Vikas Sansthan</td>\n",
       "      <td>Social Services</td>\n",
       "      <td>jgvsjkn@gmail.com</td>\n",
       "      <td>9450571541</td>\n",
       "      <td>Uttar Pradesh</td>\n",
       "    </tr>\n",
       "    <tr>\n",
       "      <th>3</th>\n",
       "      <td>Narsinha Sevabhavi Sanstha</td>\n",
       "      <td>Social Services</td>\n",
       "      <td>jos_dig@rediffmail.com</td>\n",
       "      <td>9890559261</td>\n",
       "      <td>Maharashtra</td>\n",
       "    </tr>\n",
       "    <tr>\n",
       "      <th>4</th>\n",
       "      <td>Diya India Foundation</td>\n",
       "      <td>Social Services</td>\n",
       "      <td>diya@diyaindia.org</td>\n",
       "      <td>1147041898</td>\n",
       "      <td>Delhi</td>\n",
       "    </tr>\n",
       "  </tbody>\n",
       "</table>\n",
       "</div>"
      ],
      "text/plain": [
       "                                                Name         category  \\\n",
       "0                        Santipur Computer Institute  Social Services   \n",
       "1  SOCIAL AWARNESS AND VOLUNTARY EDUCATION (SAVE)...  Social Services   \n",
       "2                          Jan Gramin Vikas Sansthan  Social Services   \n",
       "3                         Narsinha Sevabhavi Sanstha  Social Services   \n",
       "4                              Diya India Foundation  Social Services   \n",
       "\n",
       "                    email       phone          state  \n",
       "0     sci8@rediffmail.com  8926524947    West Bengal  \n",
       "1        save-ngo@eth.net  4212428100     Tamil Nadu  \n",
       "2       jgvsjkn@gmail.com  9450571541  Uttar Pradesh  \n",
       "3  jos_dig@rediffmail.com  9890559261    Maharashtra  \n",
       "4      diya@diyaindia.org  1147041898          Delhi  "
      ]
     },
     "execution_count": 7,
     "metadata": {},
     "output_type": "execute_result"
    }
   ],
   "source": [
    "ngo_data = pd.DataFrame(ngo_data)\n",
    "ngo_data.head()"
   ]
  },
  {
   "cell_type": "code",
   "execution_count": null,
   "metadata": {
    "collapsed": true
   },
   "outputs": [],
   "source": []
  }
 ],
 "metadata": {
  "kernelspec": {
   "display_name": "Python 3",
   "language": "python",
   "name": "python3"
  },
  "language_info": {
   "codemirror_mode": {
    "name": "ipython",
    "version": 3
   },
   "file_extension": ".py",
   "mimetype": "text/x-python",
   "name": "python",
   "nbconvert_exporter": "python",
   "pygments_lexer": "ipython3",
   "version": "3.6.0"
  }
 },
 "nbformat": 4,
 "nbformat_minor": 2
}
