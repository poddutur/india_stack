{
 "cells": [
  {
   "cell_type": "code",
   "execution_count": 1,
   "metadata": {
    "collapsed": true
   },
   "outputs": [],
   "source": [
    "import requests\n",
    "from bs4 import BeautifulSoup\n",
    "import pandas as pd"
   ]
  },
  {
   "cell_type": "code",
   "execution_count": 2,
   "metadata": {
    "collapsed": true
   },
   "outputs": [],
   "source": [
    "hrefs = list()\n",
    "\n",
    "#Getting the urls for list of ngos recently registered\n",
    "url = 'http://www.guidestarindia.org/List_of_NGOs.aspx'\n",
    "r = requests.get(url)\n",
    "html = r.text\n",
    "soup = BeautifulSoup(html,\"html5lib\")\n",
    "a_tags = soup.find_all('a')\n",
    "for link in a_tags:\n",
    "    thref = link.get('href')\n",
    "    if 'http://www.guidestarindia.org/Summary.aspx?CCReg' in str(thref):\n",
    "        hrefs.append(thref)\n",
    "        \n",
    "#getting the list of certified ngos        \n",
    "url = 'http://www.guidestarindia.org/CertifiedNGOs.aspx'\n",
    "r = requests.get(url)\n",
    "html = r.text\n",
    "soup = BeautifulSoup(html,\"html5lib\")\n",
    "a_tags = soup.find_all('a')\n",
    "for link in a_tags:\n",
    "    thref = link.get('href')\n",
    "    if 'http://www.guidestarindia.org/Summary.aspx?CCReg' in str(thref):\n",
    "        hrefs.append(thref)\n",
    "        \n",
    "hrefs = list(set(hrefs))"
   ]
  },
  {
   "cell_type": "code",
   "execution_count": 3,
   "metadata": {},
   "outputs": [
    {
     "name": "stdout",
     "output_type": "stream",
     "text": [
      "0123456789101112131415161718192021222324252627282930313233343536373839404142434445464748495051525354555657585960616263646566676869707172737475767778798081828384858687888990919293949596979899100101102103104105106107108109110111112113114115116117118119120121122123124125126127128129130131132133134135136137138139140141142143144145146147148149150151152153154155156157158159160161162163164165"
     ]
    },
    {
     "ename": "IndexError",
     "evalue": "list index out of range",
     "output_type": "error",
     "traceback": [
      "\u001b[0;31m---------------------------------------------------------------------------\u001b[0m",
      "\u001b[0;31mIndexError\u001b[0m                                Traceback (most recent call last)",
      "\u001b[0;32m<ipython-input-3-d9c543f25828>\u001b[0m in \u001b[0;36m<module>\u001b[0;34m()\u001b[0m\n\u001b[1;32m     16\u001b[0m     \u001b[0mstate\u001b[0m \u001b[0;34m=\u001b[0m \u001b[0mid_data\u001b[0m\u001b[0;34m[\u001b[0m\u001b[0;36m0\u001b[0m\u001b[0;34m]\u001b[0m\u001b[0;34m.\u001b[0m\u001b[0mfindAll\u001b[0m\u001b[0;34m(\u001b[0m\u001b[0;34m'span'\u001b[0m\u001b[0;34m)\u001b[0m\u001b[0;34m[\u001b[0m\u001b[0;36m1\u001b[0m\u001b[0;34m]\u001b[0m\u001b[0;34m.\u001b[0m\u001b[0mtext\u001b[0m\u001b[0;34m\u001b[0m\u001b[0m\n\u001b[1;32m     17\u001b[0m     \u001b[0mid_data\u001b[0m \u001b[0;34m=\u001b[0m \u001b[0msoup\u001b[0m\u001b[0;34m.\u001b[0m\u001b[0mfindAll\u001b[0m\u001b[0;34m(\u001b[0m\u001b[0;32mTrue\u001b[0m\u001b[0;34m,\u001b[0m\u001b[0;34m{\u001b[0m\u001b[0;34m'id'\u001b[0m\u001b[0;34m:\u001b[0m\u001b[0;34m'SectionPlaceHolder1_ctl01_DynVariableList2_ctl08_txtPhoneNum'\u001b[0m\u001b[0;34m}\u001b[0m\u001b[0;34m)\u001b[0m\u001b[0;34m\u001b[0m\u001b[0m\n\u001b[0;32m---> 18\u001b[0;31m     \u001b[0mph2\u001b[0m \u001b[0;34m=\u001b[0m \u001b[0mid_data\u001b[0m\u001b[0;34m[\u001b[0m\u001b[0;36m0\u001b[0m\u001b[0;34m]\u001b[0m\u001b[0;34m.\u001b[0m\u001b[0mfindAll\u001b[0m\u001b[0;34m(\u001b[0m\u001b[0;34m'span'\u001b[0m\u001b[0;34m)\u001b[0m\u001b[0;34m[\u001b[0m\u001b[0;36m0\u001b[0m\u001b[0;34m]\u001b[0m\u001b[0;34m.\u001b[0m\u001b[0mtext\u001b[0m\u001b[0;34m\u001b[0m\u001b[0m\n\u001b[0m\u001b[1;32m     19\u001b[0m     \u001b[0;32mtry\u001b[0m\u001b[0;34m:\u001b[0m\u001b[0;34m\u001b[0m\u001b[0m\n\u001b[1;32m     20\u001b[0m         \u001b[0mid_data\u001b[0m \u001b[0;34m=\u001b[0m \u001b[0msoup\u001b[0m\u001b[0;34m.\u001b[0m\u001b[0mfindAll\u001b[0m\u001b[0;34m(\u001b[0m\u001b[0;32mTrue\u001b[0m\u001b[0;34m,\u001b[0m\u001b[0;34m{\u001b[0m\u001b[0;34m'id'\u001b[0m\u001b[0;34m:\u001b[0m\u001b[0;34m'SectionPlaceHolder1_ctl01_DynVariableList2_ctl08_txtPhoneArea'\u001b[0m\u001b[0;34m}\u001b[0m\u001b[0;34m)\u001b[0m\u001b[0;34m\u001b[0m\u001b[0m\n",
      "\u001b[0;31mIndexError\u001b[0m: list index out of range"
     ]
    }
   ],
   "source": [
    "ngo_data = list()\n",
    "for index_hrefs in range(0,len(hrefs)):\n",
    "    url = hrefs[index_hrefs]\n",
    "    r = requests.get(url)\n",
    "    html = r.text\n",
    "    soup = BeautifulSoup(html,\"html5lib\")\n",
    "    id_data = soup.findAll(True,{'id':'SectionPlaceHolder1_ctl01_ctpTxtCharityName'})\n",
    "    name = id_data[0].findAll('span')[0].text\n",
    "    a_tags = soup.find_all('a')\n",
    "    for link in a_tags:\n",
    "        thref = link.get('href')\n",
    "        if 'mailto:' in str(thref):\n",
    "            email = thref[7:]\n",
    "            break\n",
    "    id_data = soup.findAll(True,{'id':'SectionPlaceHolder1_ctl01_ccAddrState'})\n",
    "    state = id_data[0].findAll('span')[1].text\n",
    "    id_data = soup.findAll(True,{'id':'SectionPlaceHolder1_ctl01_DynVariableList2_ctl08_txtPhoneNum'})\n",
    "    ph2 = id_data[0].findAll('span')[0].text\n",
    "    try:\n",
    "        id_data = soup.findAll(True,{'id':'SectionPlaceHolder1_ctl01_DynVariableList2_ctl08_txtPhoneArea'})\n",
    "        ph1 = id_data[0].findAll('span')[0].text\n",
    "    except:\n",
    "        ph1 = ''\n",
    "    phone = ph1+ph2\n",
    "    url = url.replace('Summary','Organisation')\n",
    "    r = requests.get(url)\n",
    "    html = r.text\n",
    "    soup = BeautifulSoup(html,\"html5lib\")\n",
    "    try:\n",
    "        all_lists = soup.find_all('ul')\n",
    "        for l in all_lists:\n",
    "            for l2 in l.find_all('ul'):\n",
    "                if len(l2.find_all('a'))==0:\n",
    "                    category = (l2.find_all('li')[0].text).strip()\n",
    "    except:\n",
    "        category = ''\n",
    "    ngo_data.append({'Name': name,\n",
    "                     'email':email,\n",
    "                    'state': state,\n",
    "                    'phone':phone,\n",
    "                    'category':category})\n",
    "    print(index_hrefs,end='')\n",
    "ngo_data = pd.DataFrame(ngo_data)\n",
    "ngo_data.head(30)"
   ]
  },
  {
   "cell_type": "code",
   "execution_count": null,
   "metadata": {},
   "outputs": [],
   "source": []
  },
  {
   "cell_type": "code",
   "execution_count": null,
   "metadata": {
    "collapsed": true
   },
   "outputs": [],
   "source": []
  }
 ],
 "metadata": {
  "kernelspec": {
   "display_name": "Python 3",
   "language": "python",
   "name": "python3"
  },
  "language_info": {
   "codemirror_mode": {
    "name": "ipython",
    "version": 3
   },
   "file_extension": ".py",
   "mimetype": "text/x-python",
   "name": "python",
   "nbconvert_exporter": "python",
   "pygments_lexer": "ipython3",
   "version": "3.6.0"
  }
 },
 "nbformat": 4,
 "nbformat_minor": 2
}
